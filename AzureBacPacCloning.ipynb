{
    "metadata": {
        "kernelspec": {
            "name": "powershell",
            "display_name": "PowerShell"
        },
        "language_info": {
            "name": "powershell",
            "codemirror_mode": "shell",
            "mimetype": "text/x-sh",
            "file_extension": ".ps1"
        }
    },
    "nbformat_minor": 2,
    "nbformat": 4,
    "cells": [
        {
            "cell_type": "markdown",
            "source": [
                "# Provision an Azure SQL Database to multiple local copies [for Dev]"
            ],
            "metadata": {
                "azdata_cell_guid": "5935aa97-1347-49ad-89b7-286400b804b2"
            }
        },
        {
            "cell_type": "markdown",
            "source": [
                "  \r\n",
                "Demo PowerShell Script for PASS Summit Demo\r\n",
                "\r\n",
                "Author: Chris Unwin - Redgate Software - chris.unwin@red-gate.com\r\n",
                "\r\n",
                "Last Modified Date: 29/10/2019 \r\n",
                "\r\n",
                "Pre-requisites: Modules: Az (https://www.powershellgallery.com/packages/Az/), dbatools (https://dbatools.io/)"
            ],
            "metadata": {
                "azdata_cell_guid": "08ab0d08-3a22-4344-bf3f-c9daff57593d"
            }
        },
        {
            "cell_type": "markdown",
            "source": [
                "Start export of Azure SQL DB"
            ],
            "metadata": {
                "azdata_cell_guid": "6a252835-cd18-4345-a7ff-f5b4e35f9002"
            }
        },
        {
            "cell_type": "code",
            "source": [
                "Connect-AzAccount\n",
                "Set-AzContext -SubscriptionId \"a36be632-e20c-48fd-8af0-ba5b2c623951\"\n",
                "$AzureUser = \"chris.unwin\"\n",
                "$AzureUserPassword  = ConvertTo-SecureString \"Manchestercity1\" -asplaintext -force\n",
                "$ServerName = \"dmproduction\"\n",
                "$StorageURI = \"https://dmstoragechris.blob.core.windows.net/dmblobstore/DMDatabase_Production\"+ [datetime]::Today.ToString('yyyy-MM-dd') +\".bacpac\"\n",
                "$ExportRequest = New-AzSqlDatabaseExport -DatabaseName \"DMDatabase_Production\" `\n",
                "-ServerName $ServerName `\n",
                "-StorageKeyType \"storageaccesskey\" `\n",
                "-StorageKey \"LdkmJkNntY+c4Mu2++He2D//QavZFL7b0I50tkJYsESujoGpXhNpF2eRoHNc3ZoW9iRS5QIYlfa2oBrKQiFBgQ==\" `\n",
                "-StorageUri $StorageURI `\n",
                "-ResourceGroupName \"DMDb\" `\n",
                "-AdministratorLogin $AzureUser `\n",
                "-AdministratorLoginPassword $AzureUserPassword\n",
                "$ExportStatus = Get-AzSqlDatabaseImportExportStatus -OperationStatusLink $ExportRequest.OperationStatusLink\n",
                "[Console]::Write(\"Exporting\")\n",
                "while ($ExportStatus.Status -eq \"InProgress\")\n",
                "{\n",
                "    $ExportStatus = Get-AzSqlDatabaseImportExportStatus -OperationStatusLink $ExportRequest.OperationStatusLink\n",
                "    [Console]::Write(\".\")\n",
                "    Start-Sleep -s 30\n",
                "}\n",
                "[Console]::WriteLine(\"\")\n",
                "$ExportStatus"
            ],
            "metadata": {
                "azdata_cell_guid": "2b9817cf-6926-424f-98b2-b9dea5aee17f",
                "tags": []
            },
            "outputs": [],
            "execution_count": 6
        }
    ]
}